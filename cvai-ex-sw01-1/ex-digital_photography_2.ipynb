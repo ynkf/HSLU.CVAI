{
 "cells": [
  {
   "cell_type": "markdown",
   "id": "102e2134",
   "metadata": {},
   "source": [
    "# CVAI Exercise Digital Photography 2\n",
    "\n",
    "In this exercise we will continue to carry out some of the image manipulation that are often done as part of the processing in the camera.\n"
   ]
  },
  {
   "cell_type": "code",
   "execution_count": null,
   "id": "51f99521",
   "metadata": {},
   "outputs": [],
   "source": [
    "import skimage\n",
    "import numpy as np\n",
    "\n",
    "# for displaying images in jupyter\n",
    "import matplotlib as mpl\n",
    "from matplotlib import pyplot as plt\n",
    "\n",
    "# this makes the images a bit larger\n",
    "mpl.rcParams['figure.dpi']= 200\n",
    "plt.rcParams['figure.figsize'] = [5,4]\n",
    "\n",
    "# plots directly in the notebook\n",
    "%matplotlib inline \n",
    "\n",
    "# if you have a high-dpi monitor\n",
    "%config InlineBackend.figure_format = 'retina' \n",
    "\n",
    "path = '/exchange/cvai/images/'"
   ]
  },
  {
   "cell_type": "markdown",
   "id": "ab3d13dd",
   "metadata": {},
   "source": [
    "## Exercise 1: White balance\n",
    "\n",
    "We have looked at white balance in the lecture. The problem that images taken under different lighting conditions do not look the same on a photograph. When we see the scene with our own eyes, the brain will adjust so that we will still recognise the colors. However, when looking at an image that will not be done.\n",
    "\n",
    "We will load different example images taken from the wikipedia page about color balance: https://en.wikipedia.org/wiki/Color_balance. The images are by Alex1ruff - Own work, CC BY-SA 4.0, https://commons.wikimedia.org/w/index.php?curid=48366925\n"
   ]
  },
  {
   "cell_type": "code",
   "execution_count": null,
   "id": "3d4b4759",
   "metadata": {},
   "outputs": [],
   "source": [
    "# images can be read using imread, this will result in a 3 channel uint8 image\n",
    "image_neutral = skimage.io.imread(path + '1080px-Wb_girl_neutral.jpg')\n",
    "image_tungsten = skimage.io.imread(path + '1080px-Wb_girl_tungsten.jpg')\n",
    "image_cloudy = skimage.io.imread(path + '1080px-Wb_girl_cloudy.jpg')\n",
    "\n",
    "plt.rcParams['figure.figsize'] = [15,15]\n",
    "plt.subplot(3,1,1)\n",
    "plt.imshow(image_neutral)\n",
    "plt.subplot(3,1,2)\n",
    "plt.imshow(image_tungsten)\n",
    "plt.subplot(3,1,3)\n",
    "plt.imshow(image_cloudy)"
   ]
  },
  {
   "cell_type": "markdown",
   "id": "39468baa",
   "metadata": {},
   "source": [
    "We will try do adapt the blueish tungsten image first. As the image contains a color checker, we can use that to find the ground truth. The color checker is the following one from X-Rite:\n",
    "https://www.xrite.com/categories/calibration-profiling/colorchecker-classic\n",
    "\n",
    "According to that website, the grey values in the lower 6 squares are approximately gray values with the values 241, 202, 163, 121, 82, 48. I.e. the brightest square has the color (241, 241, 241).\n",
    "\n",
    "We would like to extract and average a 20x20 pixel area from each of the 6 squares. You might want to open the image in an image processing program to better find the coordinates and display the found squares to verify. Remember that numpy uses the first coordinate along the y axis."
   ]
  },
  {
   "cell_type": "code",
   "execution_count": null,
   "id": "e0b009b6",
   "metadata": {
    "deletable": false,
    "nbgrader": {
     "cell_type": "code",
     "checksum": "d9f5f95886ab0fe51b9c75554f467689",
     "grade": false,
     "grade_id": "cell-aa7757129899cde8",
     "locked": false,
     "schema_version": 3,
     "solution": true,
     "task": false
    }
   },
   "outputs": [],
   "source": [
    "white_patch = image_tungsten[0:20, 0:20,:]\n",
    "grey_1_patch = image_tungsten[0:20, 0:20,:]\n",
    "grey_2_patch = image_tungsten[0:20, 0:20,:]\n",
    "grey_3_patch = image_tungsten[0:20, 0:20,:]\n",
    "grey_4_patch = image_tungsten[0:20, 0:20,:]\n",
    "black_patch = image_tungsten[0:20, 0:20,:]\n",
    "\n",
    "# add the correct coordinates to extract the patches\n",
    "\n",
    "# YOUR CODE HERE\n",
    "raise NotImplementedError()\n"
   ]
  },
  {
   "cell_type": "code",
   "execution_count": null,
   "id": "9acd63ee",
   "metadata": {
    "deletable": false,
    "editable": false,
    "nbgrader": {
     "cell_type": "code",
     "checksum": "00099dd6988269be7b37f1d47e7a034d",
     "grade": true,
     "grade_id": "cell-0662f8225e885a43",
     "locked": true,
     "points": 1,
     "schema_version": 3,
     "solution": false,
     "task": false
    }
   },
   "outputs": [],
   "source": [
    "plt.subplot(3,2,1)\n",
    "plt.imshow(white_patch)\n",
    "plt.subplot(3,2,2)\n",
    "plt.imshow(grey_1_patch)\n",
    "plt.subplot(3,2,3)\n",
    "plt.imshow(grey_2_patch)\n",
    "plt.subplot(3,2,4)\n",
    "plt.imshow(grey_3_patch)\n",
    "plt.subplot(3,2,5)\n",
    "plt.imshow(grey_4_patch)\n",
    "plt.subplot(3,2,6)\n",
    "plt.imshow(black_patch)"
   ]
  },
  {
   "cell_type": "markdown",
   "id": "7eb13b9a",
   "metadata": {},
   "source": [
    "As we can see, the patches are quite blueish. Now we should calculate the average color of the patches so that we can compare them to the real values. You might have to check numpy how to average along more than one axis."
   ]
  },
  {
   "cell_type": "code",
   "execution_count": null,
   "id": "892eafeb",
   "metadata": {
    "deletable": false,
    "nbgrader": {
     "cell_type": "code",
     "checksum": "483b61ccc6b5f8b1df85fdec879c3e6a",
     "grade": false,
     "grade_id": "cell-60020b27126ed722",
     "locked": false,
     "schema_version": 3,
     "solution": true,
     "task": false
    }
   },
   "outputs": [],
   "source": [
    "# calculate the average values of the 6 patches\n",
    "\n",
    "# initialize variables \n",
    "white_tungsten = [0, 0, 0]\n",
    "grey_1_tungsten = [0, 0, 0]\n",
    "grey_2_tungsten = [0, 0, 0]\n",
    "grey_3_tungsten = [0, 0, 0]\n",
    "grey_4_tungsten = [0, 0, 0]\n",
    "black_tungsten = [0, 0, 0]\n",
    "\n",
    "# calculate the colors correctly\n",
    "\n",
    "# YOUR CODE HERE\n",
    "raise NotImplementedError()\n",
    "\n",
    "print(white_tungsten, grey_1_tungsten, grey_2_tungsten, grey_3_tungsten, grey_4_tungsten, black_tungsten)"
   ]
  },
  {
   "cell_type": "code",
   "execution_count": null,
   "id": "b7d80738",
   "metadata": {
    "deletable": false,
    "editable": false,
    "nbgrader": {
     "cell_type": "code",
     "checksum": "e0d678aee94b8452963dc21ee9abb091",
     "grade": true,
     "grade_id": "cell-7fee27e5ba0508cd",
     "locked": true,
     "points": 0,
     "schema_version": 3,
     "solution": false,
     "task": false
    }
   },
   "outputs": [],
   "source": [
    "np.testing.assert_allclose(white_tungsten,[223, 237, 252], atol=3.0)\n",
    "np.testing.assert_allclose(grey_1_tungsten,[192, 215, 246], atol=3.0)\n",
    "np.testing.assert_allclose(grey_2_tungsten,[150, 181, 227], atol=3.0)\n",
    "np.testing.assert_allclose(grey_3_tungsten,[84, 127, 178], atol=3.0)\n",
    "np.testing.assert_allclose(grey_4_tungsten,[41, 77, 119], atol=3.0)\n",
    "np.testing.assert_allclose(black_tungsten,[15, 33, 57], atol=3.0)"
   ]
  },
  {
   "cell_type": "markdown",
   "id": "3061eb5e",
   "metadata": {},
   "source": [
    "### Color Correction\n",
    "\n",
    "We now want to implement the color correction. One simple solution is to scale the color channels linearly in RGB so that the correct color is achieved for a given reference color.\n",
    "\n",
    "Write a function that takes an image, a reference color, the same color as it occurs in the image (i.e. what we have measured) and calculates the color corrected image.\n"
   ]
  },
  {
   "cell_type": "code",
   "execution_count": null,
   "id": "787938fe",
   "metadata": {
    "deletable": false,
    "nbgrader": {
     "cell_type": "code",
     "checksum": "cf0161b8c26e8e2f883eea75d2ddf432",
     "grade": false,
     "grade_id": "cell-c8bb2090d3f97fb5",
     "locked": false,
     "schema_version": 3,
     "solution": true,
     "task": false
    }
   },
   "outputs": [],
   "source": [
    "def color_correction(image: np.ndarray, ref_color, ref_color_measured) -> np.ndarray:\n",
    "    # YOUR CODE HERE\n",
    "    raise NotImplementedError()\n",
    "            "
   ]
  },
  {
   "cell_type": "code",
   "execution_count": null,
   "id": "c6c5499e",
   "metadata": {
    "deletable": false,
    "editable": false,
    "nbgrader": {
     "cell_type": "code",
     "checksum": "f66e6196855b29a65cd4a687f210c16b",
     "grade": true,
     "grade_id": "cell-b15f9ccc1fde40cd",
     "locked": true,
     "points": 1,
     "schema_version": 3,
     "solution": false,
     "task": false
    }
   },
   "outputs": [],
   "source": [
    "# call the correction with one of the gray values (you can also try some of the other color, grey seems to work better\n",
    "# than white as it will give a stronger correction )\n",
    "image_corrected = color_correction(image_tungsten, [163,163,163],grey_2_tungsten)\n",
    "assert image_corrected is not None"
   ]
  },
  {
   "cell_type": "code",
   "execution_count": null,
   "id": "c75ae08e",
   "metadata": {},
   "outputs": [],
   "source": [
    "plt.rcParams['figure.figsize'] = [14,10]\n",
    "plt.subplot(1,2,1)\n",
    "plt.imshow(image_corrected)\n",
    "plt.subplot(1,2,2)\n",
    "plt.imshow(image_tungsten)"
   ]
  },
  {
   "cell_type": "markdown",
   "id": "609b0dae",
   "metadata": {},
   "source": [
    "The image does not yet look completely like the neutral image, but much of the blueish color has gone the the image looks much more realistic.\n",
    "\n",
    "You can try to correct the other (cloudy) image the same way."
   ]
  },
  {
   "cell_type": "markdown",
   "id": "7b4a2bef",
   "metadata": {},
   "source": [
    "## Exercise 2: HDR Imaging\n",
    "\n",
    "In this exercise we will look at creating an HDR image out of images taken with different exposure settings. We will first use the image of the St. Louis arc which are available at Wikimadia Commons under the following license:\n",
    "\n",
    "Kevin McCoy, CC BY-SA 3.0 <https://creativecommons.org/licenses/by-sa/3.0>, via Wikimedia Commons\n",
    "\n",
    "The images have been downsampled from the original size for faster processing. Lets first load and display the 4 images."
   ]
  },
  {
   "cell_type": "code",
   "execution_count": null,
   "id": "36c1349e",
   "metadata": {},
   "outputs": [],
   "source": [
    "image_0 = skimage.io.imread(path + '960px-StLouisArchMultExpEV-4.72.JPG')\n",
    "image_1 = skimage.io.imread(path + '960px-StLouisArchMultExpEV-1.82.JPG')\n",
    "image_2 = skimage.io.imread(path + '960px-StLouisArchMultExpEV+1.18.JPG')\n",
    "image_3 = skimage.io.imread(path + '960px-StLouisArchMultExpEV+4.09.JPG')"
   ]
  },
  {
   "cell_type": "code",
   "execution_count": null,
   "id": "dd9037cd",
   "metadata": {},
   "outputs": [],
   "source": [
    "plt.rcParams['figure.figsize'] = [15,15]\n",
    "plt.subplot(2,2,1)\n",
    "plt.imshow(image_0)\n",
    "plt.subplot(2,2,2)\n",
    "plt.imshow(image_1)\n",
    "plt.subplot(2,2,3)\n",
    "plt.imshow(image_2)\n",
    "plt.subplot(2,2,4)\n",
    "plt.imshow(image_3)"
   ]
  },
  {
   "cell_type": "markdown",
   "id": "07f812fb",
   "metadata": {},
   "source": [
    "Write a function that combines the images to produce one with larger dynamic range. In the resulting image, you will want to see some details from the dark areas without having the bright areas overexposed.\n",
    "\n",
    "As outlined in the course, you might only want to use the pixels in a specific location from some images, but not from others. Try to use only linear combination for the first approach, even as the images are jpeg.\n",
    "\n",
    "Is there much difference if you mask out pixels from some of the images or not?\n"
   ]
  },
  {
   "cell_type": "code",
   "execution_count": null,
   "id": "bc0f59ce",
   "metadata": {
    "deletable": false,
    "nbgrader": {
     "cell_type": "code",
     "checksum": "9edffe39e0dbe4fd7655bd6c127baa2b",
     "grade": false,
     "grade_id": "cell-2ff403aec03d8ffd",
     "locked": false,
     "schema_version": 3,
     "solution": true,
     "task": false
    }
   },
   "outputs": [],
   "source": [
    "# save your resulting image in this variable\n",
    "linear_hdr = None\n",
    "# YOUR CODE HERE\n",
    "raise NotImplementedError()"
   ]
  },
  {
   "cell_type": "code",
   "execution_count": null,
   "id": "00952447",
   "metadata": {
    "deletable": false,
    "editable": false,
    "nbgrader": {
     "cell_type": "code",
     "checksum": "f978b65e62109888cfa09dd789b59d56",
     "grade": true,
     "grade_id": "cell-3ec33c22a1b32f7a",
     "locked": true,
     "points": 1,
     "schema_version": 3,
     "solution": false,
     "task": false
    }
   },
   "outputs": [],
   "source": [
    "assert linear_hdr is not None\n",
    "plt.imshow(linear_hdr)"
   ]
  },
  {
   "cell_type": "markdown",
   "id": "a8a8d2cf",
   "metadata": {},
   "source": [
    "As you can see, there is one problem with the images, they do not seem to be fully aligned. We will look how to correct this problem in the next lecture."
   ]
  },
  {
   "cell_type": "markdown",
   "id": "0b846df5",
   "metadata": {},
   "source": [
    "This will be all for the exercise.\n",
    "\n",
    "Please feel free to experiment a bit more with the images."
   ]
  },
  {
   "cell_type": "code",
   "execution_count": null,
   "id": "841e03b8",
   "metadata": {},
   "outputs": [],
   "source": []
  },
  {
   "cell_type": "code",
   "execution_count": null,
   "id": "61b06a75-20fc-4fd4-8b03-817ebe40cf33",
   "metadata": {},
   "outputs": [],
   "source": []
  },
  {
   "cell_type": "code",
   "execution_count": null,
   "id": "75459084-eb5f-4761-bcde-1a49a46eccfb",
   "metadata": {},
   "outputs": [],
   "source": []
  }
 ],
 "metadata": {
  "kernelspec": {
   "display_name": "Python 3 (ipykernel)",
   "language": "python",
   "name": "python3"
  },
  "language_info": {
   "codemirror_mode": {
    "name": "ipython",
    "version": 3
   },
   "file_extension": ".py",
   "mimetype": "text/x-python",
   "name": "python",
   "nbconvert_exporter": "python",
   "pygments_lexer": "ipython3",
   "version": "3.12.9"
  }
 },
 "nbformat": 4,
 "nbformat_minor": 5
}
