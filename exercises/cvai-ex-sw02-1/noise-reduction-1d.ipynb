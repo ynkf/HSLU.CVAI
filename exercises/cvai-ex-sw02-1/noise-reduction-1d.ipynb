{
 "cells": [
  {
   "cell_type": "code",
   "execution_count": null,
   "id": "b0842c8f",
   "metadata": {},
   "outputs": [],
   "source": [
    "import numpy as np\n",
    "import matplotlib.pyplot as pl"
   ]
  },
  {
   "cell_type": "code",
   "execution_count": null,
   "id": "9a2e3b46",
   "metadata": {},
   "outputs": [],
   "source": [
    "img = np.array ([0, 0, 0, 0, 0, 1, 2, 3, 4, 5, 6, 7, 7, 7, 7, 7, 0, 0, 0, 0, 0, 7, 7, 7, 7, 7]) .astype (float)"
   ]
  },
  {
   "cell_type": "code",
   "execution_count": null,
   "id": "29cfdc5b",
   "metadata": {},
   "outputs": [],
   "source": [
    "def ShowCurve (img):\n",
    "    n = img.shape [0]\n",
    "    x = np.arange (n)\n",
    "    pl.plot (x, img, color = 'blue')\n",
    "    pl.plot (x, img, 'o', color = 'red')\n",
    "\n",
    "ShowCurve (img)"
   ]
  },
  {
   "cell_type": "code",
   "execution_count": null,
   "id": "d628626d",
   "metadata": {},
   "outputs": [],
   "source": [
    "def ShowImage (img):\n",
    "    u = np.stack ([img for i in range (10)], axis = 0)\n",
    "    pl.imshow (u, cmap = 'gray')\n",
    "\n",
    "ShowImage (img)"
   ]
  },
  {
   "cell_type": "code",
   "execution_count": null,
   "id": "36328672",
   "metadata": {},
   "outputs": [],
   "source": [
    "def Show (img):\n",
    "    pl.figure (figsize = (10, 2))\n",
    "    pl.subplot (1, 2, 1); ShowCurve (img)\n",
    "    pl.subplot (1, 2, 2); ShowImage (img)\n",
    "\n",
    "Show (img)"
   ]
  },
  {
   "cell_type": "code",
   "execution_count": null,
   "id": "25f3cda8",
   "metadata": {},
   "outputs": [],
   "source": [
    "rnd = np.copy (img)\n",
    "rnd [2] = 7\n",
    "rnd [7] = 7\n",
    "rnd [8] = 0\n",
    "rnd [18] = 7\n",
    "rnd [23] = 0\n",
    "Show (rnd)"
   ]
  },
  {
   "cell_type": "code",
   "execution_count": null,
   "id": "84e9958a",
   "metadata": {},
   "outputs": [],
   "source": [
    "def Apply (f, img):\n",
    "    res = np.copy (img)\n",
    "    r = 1\n",
    "    for i in range (r, res.shape [0] - r):\n",
    "        res [i] = f (img [i - r : i + r + 1])\n",
    "    return res"
   ]
  },
  {
   "cell_type": "code",
   "execution_count": null,
   "id": "c91be6a4",
   "metadata": {},
   "outputs": [],
   "source": [
    "def Mean (img):\n",
    "    return Apply (np.mean, img)\n",
    "\n",
    "Show (Mean (rnd))"
   ]
  },
  {
   "cell_type": "code",
   "execution_count": null,
   "id": "4886fbf6",
   "metadata": {},
   "outputs": [],
   "source": [
    "def Median (img):\n",
    "    return Apply (np.median, img)\n",
    "\n",
    "Show (Median (rnd))"
   ]
  },
  {
   "cell_type": "code",
   "execution_count": null,
   "id": "3c28edc9",
   "metadata": {},
   "outputs": [],
   "source": [
    "pl.figure (figsize = (12, 6))\n",
    "pl.subplot (2, 2, 1); ShowCurve (img)\n",
    "pl.subplot (2, 2, 2); ShowCurve (rnd)\n",
    "pl.subplot (2, 2, 3); ShowCurve (Mean (rnd))\n",
    "pl.subplot (2, 2, 4); ShowCurve (Median (rnd))"
   ]
  },
  {
   "cell_type": "code",
   "execution_count": null,
   "id": "a68457ed",
   "metadata": {},
   "outputs": [],
   "source": [
    "pl.figure (figsize = (12, 6))\n",
    "pl.subplot (2, 2, 1); ShowImage (img)\n",
    "pl.subplot (2, 2, 2); ShowImage (rnd)\n",
    "pl.subplot (2, 2, 3); ShowImage (Mean (rnd))\n",
    "pl.subplot (2, 2, 4); ShowImage (Median (rnd))"
   ]
  }
 ],
 "metadata": {
  "kernelspec": {
   "display_name": "Python 3 (ipykernel)",
   "language": "python",
   "name": "python3"
  },
  "language_info": {
   "codemirror_mode": {
    "name": "ipython",
    "version": 3
   },
   "file_extension": ".py",
   "mimetype": "text/x-python",
   "name": "python",
   "nbconvert_exporter": "python",
   "pygments_lexer": "ipython3",
   "version": "3.11.5"
  }
 },
 "nbformat": 4,
 "nbformat_minor": 5
}
