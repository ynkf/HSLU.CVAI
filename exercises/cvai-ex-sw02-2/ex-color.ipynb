{
 "cells": [
  {
   "cell_type": "markdown",
   "metadata": {},
   "source": [
    "# CVAI - Übung: Farben"
   ]
  },
  {
   "cell_type": "markdown",
   "metadata": {},
   "source": [
    "### Detektion mit Farben\n",
    "\n",
    "In unserem SkinApp Projekt befassen wir uns mit der Erkennung von Hautkrankheiten, zum Beispiel auf Händen. Als erstes muss dabei die Handfläche vom Hintergrund getrennt werden. Damit dies einfacher geht, haben wir eine Photobox entwickelt, die die Hände vor grünem Hintergrund aufnimmt. Sie sollen nun untersuchen, ob es damit tatsächlich einfacher ist, die Handflächen oder Handrückseiten zu finden.\n",
    "\n",
    "\n",
    "\n"
   ]
  },
  {
   "cell_type": "code",
   "execution_count": null,
   "metadata": {},
   "outputs": [],
   "source": [
    "# OpenCV needs to be included first\n",
    "\n",
    "import cv2\n",
    "import numpy as np\n",
    "\n",
    "# for displaying images in jupyter\n",
    "\n",
    "import matplotlib as mpl\n",
    "from matplotlib import pyplot as plt\n",
    "\n",
    "%matplotlib inline\n",
    "# resolution of images in figure\n",
    "mpl.rcParams['figure.dpi']= 200\n",
    "# figure size in inches\n",
    "mpl.rcParams[\"figure.figsize\"] = [10,5]\n",
    "\n",
    "path = '/exchange/cvai/images/'"
   ]
  },
  {
   "cell_type": "markdown",
   "metadata": {},
   "source": [
    "### Aufgabe 1: Handsegmentierung\n",
    "\n",
    "Als erstes sollen sie versuchen, die Handflächen mittels der Farbe der Haut zu detektieren. Dazu ist es möglicherweise hilfreich, das Bild in einen anderen Farbraum zu transferieren. Für Hautsegmentierung könnte sich zum Beispiel der YCrCb- oder der HSV-Farbraum eignen. Stellen Sie das Bild in diesen Farbräumen dar und suchen Sie dann, entsprechende Schwellwerte um eine binäre Maske der Hand zu erstellen. Für Schwellwerte stehen in OpenCV eigentlich die Funktionen `cv.threshold()` und `cv2.inRange()` zur Verfügung, für einfache Fälle ist oft auch ein Vergleich direkt in numpy möglich."
   ]
  },
  {
   "cell_type": "code",
   "execution_count": null,
   "metadata": {},
   "outputs": [],
   "source": [
    "image_grey_back = cv2.imread (path + 'hand_grey_small.png')\n",
    "image_grey_back = cv2.cvtColor (image_grey_back, cv2.COLOR_BGR2RGB)\n",
    "\n",
    "# simple threshold in RGB\n",
    "\n",
    "min = np.array ([150, 0, 0])\n",
    "max = np.array ([255, 140, 150])\n",
    "\n",
    "skin_image = cv2.inRange (image_grey_back, min, max)\n",
    "\n",
    "plt.subplot (1, 2, 1); plt.imshow (image_grey_back)\n",
    "plt.subplot (1, 2, 2); plt.imshow (skin_image, cmap = 'gray')"
   ]
  },
  {
   "cell_type": "markdown",
   "metadata": {},
   "source": [
    "Konvertieren sie nun das Bild in ein anderes Farbsystem und versuchen sie, dort einen besseren Schwellwert zu erhalten."
   ]
  },
  {
   "cell_type": "code",
   "execution_count": null,
   "metadata": {
    "deletable": false,
    "nbgrader": {
     "cell_type": "code",
     "checksum": "14edcccc628b917d4d463cd21f602cc5",
     "grade": false,
     "grade_id": "cell-17b506beb75e8020",
     "locked": false,
     "schema_version": 3,
     "solution": true,
     "task": false
    },
    "tags": []
   },
   "outputs": [],
   "source": [
    "image_hsv = None\n",
    "\n",
    "# YOUR CODE HERE\n",
    "raise NotImplementedError()"
   ]
  },
  {
   "cell_type": "code",
   "execution_count": null,
   "metadata": {
    "deletable": false,
    "editable": false,
    "nbgrader": {
     "cell_type": "code",
     "checksum": "29c0b3188799014ec2936dea9f6cd0c8",
     "grade": true,
     "grade_id": "cell-3ec33c22a1b32f7a",
     "locked": true,
     "points": 1,
     "schema_version": 3,
     "solution": false,
     "task": false
    }
   },
   "outputs": [],
   "source": [
    "assert image_hsv is not None\n",
    "#plt.imshow(image_hsv)"
   ]
  },
  {
   "cell_type": "markdown",
   "metadata": {},
   "source": [
    "### Aufgabe 2: Hintergrundsegmentierung\n",
    "\n",
    "Im folgenden wird ein Bild mit grünem Hintergrund geladen. Führen Sie darauf die gleiche Segmentierung wie beim oberen Bild durch und stellen Sie diese dar."
   ]
  },
  {
   "cell_type": "code",
   "execution_count": null,
   "metadata": {},
   "outputs": [],
   "source": [
    "image_green_back = cv2.imread (path + 'hand_green_small.png')\n",
    "image_green_back = cv2.cvtColor (image_green_back, cv2.COLOR_BGR2RGB)\n",
    "plt.imshow (image_green_back)"
   ]
  },
  {
   "cell_type": "markdown",
   "metadata": {},
   "source": [
    "Segmentieren Sie nun statt der Haut den grünen Hintergrund. Können Sie damit eine bessere Unterscheidung zwischen Hand und Hintergrund erhalten? Stellen sie die beiden Bilder nebeneinander dar."
   ]
  },
  {
   "cell_type": "code",
   "execution_count": null,
   "metadata": {
    "deletable": false,
    "nbgrader": {
     "cell_type": "code",
     "checksum": "6ef874c8702c062600f0b7c2d8a08784",
     "grade": false,
     "grade_id": "cell-4ffa178be8476e1f",
     "locked": false,
     "schema_version": 3,
     "solution": true,
     "task": false
    },
    "tags": []
   },
   "outputs": [],
   "source": [
    "hsv = None\n",
    "\n",
    "# YOUR CODE HERE\n",
    "raise NotImplementedError()\n",
    "\n",
    "#plt.subplot (1, 2, 1); plt.imshow (..., cmap = 'gray')\n",
    "#plt.subplot (1, 2, 2); plt.imshow (..., cmap = 'gray')"
   ]
  },
  {
   "cell_type": "code",
   "execution_count": null,
   "metadata": {
    "deletable": false,
    "editable": false,
    "nbgrader": {
     "cell_type": "code",
     "checksum": "2a7c9a6ef7a4b8933a28146294c77292",
     "grade": true,
     "grade_id": "cell-83f05625f4e8a43c",
     "locked": true,
     "points": 1,
     "schema_version": 3,
     "solution": false,
     "task": false
    },
    "tags": []
   },
   "outputs": [],
   "source": [
    "assert hsv is not None\n",
    "#plt.imshow(hsv)"
   ]
  },
  {
   "cell_type": "markdown",
   "metadata": {},
   "source": [
    "### Aufgabe 3: Bluescreen\n",
    "\n",
    "Blue Screening wird in der Filmindustrie verwendet, um Regionen in einem Bild (zum Beispiel einen blauen Hintergrund) durch ein anderes Bild zu ersetzen.\n",
    "\n",
    "Entwickeln sie ein Program, das zwei Bilder mit Hilfe dieser Technik überlagert. Gehen Sie dazu wie folgt vor:\n",
    "\n",
    "* Berechnen sie für jedes Pixel die Transparenz α aufgrund des Farbwertes des ersten Bildes (I1)\n",
    "\n",
    "* Berechnen sie die Pixel des Ausgabebildes O, indem sie und das zweite Bild (I2) mit Hilfe des α-Wertes übereinander legen. Eine mögliche Funktion dazu ist \n",
    "\n",
    "$$ O = \\alpha  \\cdot I_1 + (1 − \\alpha) \\cdot I_2 $$\n",
    "\n",
    "* Dies wird als Alpha Blendung bezeichnet.\n",
    "\n",
    "Ein Beispielbild mit blauem Hintergrund, sowie ein Beispiel Hintergrund werden im anschliessenden Code geladen. Allerdings haben die Bilder noch nicht die gleiche Grösse und müssen also zuerst noch skaliert werden. Sie können aber auch andere Bilder aus dem Internet verwenden."
   ]
  },
  {
   "cell_type": "code",
   "execution_count": null,
   "metadata": {},
   "outputs": [],
   "source": [
    "foreground = cv2.imread (path + '2011-04-29_KG_RLB_RED_LEADER-003C_small.jpg')\n",
    "foreground = cv2.cvtColor (foreground, cv2.COLOR_BGR2RGB)\n",
    "\n",
    "background = cv2.imread (path + 'landscape-moon.jpg')\n",
    "background = cv2.cvtColor (background, cv2.COLOR_BGR2RGB)\n",
    "\n",
    "plt.subplot (1, 2, 1); plt.imshow (foreground)\n",
    "plt.subplot (1, 2, 2); plt.imshow (background)\n",
    "print (foreground.shape)\n",
    "print (background.shape)"
   ]
  },
  {
   "cell_type": "code",
   "execution_count": null,
   "metadata": {
    "deletable": false,
    "nbgrader": {
     "cell_type": "code",
     "checksum": "2a30674fe00404fb777c2308adbf90bf",
     "grade": false,
     "grade_id": "cell-ce6b91741c247146",
     "locked": false,
     "schema_version": 3,
     "solution": true,
     "task": false
    },
    "tags": []
   },
   "outputs": [],
   "source": [
    "# YOUR CODE HERE\n",
    "raise NotImplementedError()"
   ]
  },
  {
   "cell_type": "code",
   "execution_count": null,
   "metadata": {
    "deletable": false,
    "nbgrader": {
     "cell_type": "code",
     "checksum": "3624e5daecb59d8b3fc64efe34b1eded",
     "grade": true,
     "grade_id": "cell-4b13835b31324cd9",
     "locked": false,
     "points": 0,
     "schema_version": 3,
     "solution": true,
     "task": false
    },
    "tags": []
   },
   "outputs": [],
   "source": [
    "# YOUR CODE HERE\n",
    "raise NotImplementedError()"
   ]
  },
  {
   "cell_type": "code",
   "execution_count": null,
   "metadata": {
    "deletable": false,
    "nbgrader": {
     "cell_type": "code",
     "checksum": "62783c44345cd7f6392d3abbb9cb46db",
     "grade": false,
     "grade_id": "cell-19cd092f596657a2",
     "locked": false,
     "schema_version": 3,
     "solution": true,
     "task": false
    },
    "tags": []
   },
   "outputs": [],
   "source": [
    "# YOUR CODE HERE\n",
    "raise NotImplementedError()"
   ]
  },
  {
   "cell_type": "code",
   "execution_count": null,
   "metadata": {
    "deletable": false,
    "editable": false,
    "nbgrader": {
     "cell_type": "code",
     "checksum": "74aee6c7b2c51a2cc15fe1c8780e419c",
     "grade": true,
     "grade_id": "cell-ec13899a761383c3",
     "locked": true,
     "points": 1,
     "schema_version": 3,
     "solution": false,
     "task": false
    },
    "tags": []
   },
   "outputs": [],
   "source": [
    "# This should be 0\n",
    "print(foreground.shape[0] - background.shape[0])\n",
    "print(foreground.shape[1] - background.shape[1])\n",
    "\n",
    "# These should be equal\n",
    "print(foreground.shape)\n",
    "print(background.shape)\n",
    "\n",
    "np.testing.assert_equal(foreground.shape, background.shape)"
   ]
  },
  {
   "cell_type": "code",
   "execution_count": null,
   "metadata": {},
   "outputs": [],
   "source": []
  },
  {
   "cell_type": "code",
   "execution_count": null,
   "metadata": {},
   "outputs": [],
   "source": []
  }
 ],
 "metadata": {
  "kernelspec": {
   "display_name": "Python 3 (ipykernel)",
   "language": "python",
   "name": "python3"
  },
  "language_info": {
   "codemirror_mode": {
    "name": "ipython",
    "version": 3
   },
   "file_extension": ".py",
   "mimetype": "text/x-python",
   "name": "python",
   "nbconvert_exporter": "python",
   "pygments_lexer": "ipython3",
   "version": "3.11.5"
  }
 },
 "nbformat": 4,
 "nbformat_minor": 4
}
