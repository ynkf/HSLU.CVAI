{
 "cells": [
  {
   "cell_type": "markdown",
   "metadata": {},
   "source": [
    "# Demo: Diskrete Kosinus-Transformation"
   ]
  },
  {
   "cell_type": "markdown",
   "metadata": {},
   "source": [
    "Abkürzung: DCT = Discrete Cosine Transformation"
   ]
  },
  {
   "cell_type": "markdown",
   "metadata": {},
   "source": [
    "## Bibliotheken"
   ]
  },
  {
   "cell_type": "code",
   "execution_count": null,
   "metadata": {},
   "outputs": [],
   "source": [
    "import numpy as np\n",
    "import matplotlib.pyplot as pl\n",
    "import cv2 as cv\n",
    "\n",
    "path = '/exchange/cvai/images/'"
   ]
  },
  {
   "cell_type": "markdown",
   "metadata": {},
   "source": [
    "## Eindimensionale DCT"
   ]
  },
  {
   "cell_type": "markdown",
   "metadata": {},
   "source": [
    "### Kosinusfunktionen im Intervall $[0,\\pi]$"
   ]
  },
  {
   "cell_type": "code",
   "execution_count": null,
   "metadata": {},
   "outputs": [],
   "source": [
    "Farbe = ['red', 'green', 'turquoise', 'blue', 'violet']"
   ]
  },
  {
   "cell_type": "code",
   "execution_count": null,
   "metadata": {},
   "outputs": [],
   "source": [
    "def KosinusKurven (N):\n",
    "    x = np.linspace (0, np.pi, 1001)\n",
    "    for n in range (N):\n",
    "        pl.plot (x, np.cos (n * x), color = Farbe [n])\n",
    "\n",
    "KosinusKurven (3)"
   ]
  },
  {
   "cell_type": "markdown",
   "metadata": {},
   "source": [
    "### Diskrete Kosinusfunktionen"
   ]
  },
  {
   "cell_type": "code",
   "execution_count": null,
   "metadata": {},
   "outputs": [],
   "source": [
    "def KosinusKurvenPunkte (N):\n",
    "    x1 = np.linspace (0, np.pi, 1001)\n",
    "    x2 = (2 * np.arange (N) + 1) / (2 * N) * np.pi\n",
    "    for n in range (N):\n",
    "        pl.plot (x1, np.cos (n * x1), color = Farbe [n])\n",
    "        pl.plot (x2, np.cos (n * x2), 'o', color = Farbe [n])\n",
    "\n",
    "KosinusKurvenPunkte (3)"
   ]
  },
  {
   "cell_type": "markdown",
   "metadata": {},
   "source": [
    "### Kosinustransformation als Matrix"
   ]
  },
  {
   "cell_type": "markdown",
   "metadata": {},
   "source": [
    "#### Stützstellen"
   ]
  },
  {
   "cell_type": "code",
   "execution_count": null,
   "metadata": {},
   "outputs": [],
   "source": [
    "def DctArgs (N):\n",
    "    jj = 2 * np.arange (N) + 1\n",
    "    tt = jj / (2 * N)\n",
    "    xx = np.pi * tt\n",
    "    return xx\n",
    "\n",
    "DctArgs (2)"
   ]
  },
  {
   "cell_type": "markdown",
   "metadata": {},
   "source": [
    "#### Eine Zeile"
   ]
  },
  {
   "cell_type": "code",
   "execution_count": null,
   "metadata": {},
   "outputs": [],
   "source": [
    "def DctZeile (N, n):\n",
    "    xx = DctArgs (N)\n",
    "    return np.cos (n * xx)\n",
    "\n",
    "print (DctZeile (2, 0))\n",
    "print (DctZeile (2, 1))"
   ]
  },
  {
   "cell_type": "markdown",
   "metadata": {},
   "source": [
    "#### Vollständige Matrix"
   ]
  },
  {
   "cell_type": "code",
   "execution_count": null,
   "metadata": {},
   "outputs": [],
   "source": [
    "def DctMatrix (N):\n",
    "    C = np.zeros ((N, N))\n",
    "    for n in range (N):\n",
    "        C [n, :] = DctZeile (N, n)\n",
    "    C /= np.sqrt (N); C [1:, :] *= np.sqrt (2)\n",
    "    return C\n",
    "\n",
    "M = DctMatrix (2)\n",
    "print (M)"
   ]
  },
  {
   "cell_type": "markdown",
   "metadata": {},
   "source": [
    "#### Orthogonalität"
   ]
  },
  {
   "cell_type": "code",
   "execution_count": null,
   "metadata": {},
   "outputs": [],
   "source": [
    "print (M.T @ M)"
   ]
  },
  {
   "cell_type": "markdown",
   "metadata": {},
   "source": [
    "### Transformation angewandt auf eine diskretisierte Funktion"
   ]
  },
  {
   "cell_type": "code",
   "execution_count": null,
   "metadata": {},
   "outputs": [],
   "source": [
    "def Test (f, N):\n",
    "    x = DctArgs (N)\n",
    "    y = f (x)\n",
    "    C = DctMatrix (N)\n",
    "    print (C @ y)\n",
    "    \n",
    "    xx = np.linspace (0, np.pi, 1001)\n",
    "    pl.figure (figsize = (10, 5))\n",
    "    pl.plot (xx, f (xx), color = 'gray', linewidth = 3)\n",
    "    pl.plot (x, y, 'o', color = 'gray')\n",
    "    KosinusKurvenPunkte (N)\n",
    "\n",
    "Test (lambda x: np.cos (1.1 * x) + 0.1, 4)"
   ]
  },
  {
   "cell_type": "markdown",
   "metadata": {},
   "source": [
    "## Zweidimensionale DCT"
   ]
  },
  {
   "cell_type": "markdown",
   "metadata": {},
   "source": [
    "### Eine Basisfunktion aus einem Bild mit einem hellen Pixel"
   ]
  },
  {
   "cell_type": "code",
   "execution_count": null,
   "metadata": {},
   "outputs": [],
   "source": [
    "def EinPixelBild (N, k, l):\n",
    "    X = np.zeros ((N, N))\n",
    "    X [k, l] = 1\n",
    "    return X\n",
    "\n",
    "def EineBasis (N, k, l):\n",
    "    X = EinPixelBild (N, k, l)\n",
    "    C = DctMatrix (N)\n",
    "    pl.figure (figsize = (10, 5))\n",
    "    pl.subplot (1, 2, 1); pl.imshow (X, cmap = 'gray')\n",
    "    pl.subplot (1, 2, 2); pl.imshow (C.T @ X @ C, cmap = 'gray')\n",
    "    return X\n",
    "\n",
    "t = EineBasis (8, 3, 2)"
   ]
  },
  {
   "cell_type": "markdown",
   "metadata": {},
   "source": [
    "### Alle Basisfunktionen"
   ]
  },
  {
   "cell_type": "code",
   "execution_count": null,
   "metadata": {},
   "outputs": [],
   "source": [
    "def AlleBasen (N):\n",
    "    i = 0\n",
    "    C = DctMatrix (N)\n",
    "    for j in range (N):\n",
    "        for k in range (N):\n",
    "            i = i + 1\n",
    "            pl.subplot (N, N, i)\n",
    "            X = EinPixelBild (N, j, k)\n",
    "            pl.imshow (C.T @ X @ C, cmap = 'gray')\n",
    "\n",
    "pl.figure (figsize = (10, 10))\n",
    "AlleBasen (8)"
   ]
  },
  {
   "cell_type": "markdown",
   "metadata": {},
   "source": [
    "## Anwendung: Bildkompression"
   ]
  },
  {
   "cell_type": "markdown",
   "metadata": {},
   "source": [
    "### Bildquelle"
   ]
  },
  {
   "cell_type": "markdown",
   "metadata": {},
   "source": [
    "https://breckon.org/fundipbook/materials/"
   ]
  },
  {
   "cell_type": "markdown",
   "metadata": {},
   "source": [
    "### Bild einlesen und darstellen"
   ]
  },
  {
   "cell_type": "code",
   "execution_count": null,
   "metadata": {},
   "outputs": [],
   "source": [
    "X = cv.imread (path + 'autumn.png')\n",
    "X = cv.cvtColor (X, cv.COLOR_BGR2GRAY)"
   ]
  },
  {
   "cell_type": "code",
   "execution_count": null,
   "metadata": {},
   "outputs": [],
   "source": [
    "pl.imshow (X, cmap = 'gray')"
   ]
  },
  {
   "cell_type": "markdown",
   "metadata": {},
   "source": [
    "### Information zu einem Bild ausgeben"
   ]
  },
  {
   "cell_type": "code",
   "execution_count": null,
   "metadata": {},
   "outputs": [],
   "source": [
    "def info (im):\n",
    "    print ('shape:', im.shape, '/ min:', np.min (im), '/ max:', np.max (im))"
   ]
  },
  {
   "cell_type": "code",
   "execution_count": null,
   "metadata": {},
   "outputs": [],
   "source": [
    "info (X)"
   ]
  },
  {
   "cell_type": "markdown",
   "metadata": {},
   "source": [
    "### Intensitäten \"verschieben\""
   ]
  },
  {
   "cell_type": "code",
   "execution_count": null,
   "metadata": {},
   "outputs": [],
   "source": [
    "Min = np.min (X)\n",
    "Max = np.max (X)\n",
    "X1 = 1.0 * (X - Min) / (Max - Min) - 0.0\n",
    "info (X1)"
   ]
  },
  {
   "cell_type": "markdown",
   "metadata": {},
   "source": [
    "### Bild in den Frequenzraum transformieren"
   ]
  },
  {
   "cell_type": "markdown",
   "metadata": {},
   "source": [
    "#### Transformationsmatrizen"
   ]
  },
  {
   "cell_type": "code",
   "execution_count": null,
   "metadata": {},
   "outputs": [],
   "source": [
    "M, N = X1.shape\n",
    "CM = DctMatrix (M)\n",
    "CN = DctMatrix (N)\n",
    "info (CM)\n",
    "info (CN)"
   ]
  },
  {
   "cell_type": "markdown",
   "metadata": {},
   "source": [
    "#### Transformation durchführen"
   ]
  },
  {
   "cell_type": "code",
   "execution_count": null,
   "metadata": {},
   "outputs": [],
   "source": [
    "Y1 = CM @ X1 @ CN.T\n",
    "info (Y1)"
   ]
  },
  {
   "cell_type": "markdown",
   "metadata": {},
   "source": [
    "#### Test: Rücktransformation"
   ]
  },
  {
   "cell_type": "code",
   "execution_count": null,
   "metadata": {},
   "outputs": [],
   "source": [
    "tmp = CM.T @ Y1 @ CN\n",
    "info (tmp)"
   ]
  },
  {
   "cell_type": "markdown",
   "metadata": {},
   "source": [
    "#### Hohe Frequenzen \"abschneiden\""
   ]
  },
  {
   "cell_type": "code",
   "execution_count": null,
   "metadata": {},
   "outputs": [],
   "source": [
    "Y2 = np.copy (Y1)\n",
    "Y2 [30:, 30:] = 0\n",
    "info (Y2)"
   ]
  },
  {
   "cell_type": "markdown",
   "metadata": {},
   "source": [
    "#### Bild mit abgeschnittenen Frequenzen rücktransformieren"
   ]
  },
  {
   "cell_type": "code",
   "execution_count": null,
   "metadata": {},
   "outputs": [],
   "source": [
    "Z2 = CM.T @ Y2 @ CN\n",
    "info (X1)\n",
    "info (Z2)"
   ]
  },
  {
   "cell_type": "markdown",
   "metadata": {},
   "source": [
    "#### Ursprüngliches und komprimiertes Bild darstellen"
   ]
  },
  {
   "cell_type": "code",
   "execution_count": null,
   "metadata": {},
   "outputs": [],
   "source": [
    "pl.figure (figsize = (14, 7))\n",
    "pl.subplot (1, 3, 1); pl.imshow (X1, cmap = 'gray')\n",
    "info (X1)\n",
    "pl.subplot (1, 3, 2); pl.imshow (Z2, cmap = 'gray')\n",
    "info (Z2)\n",
    "pl.subplot (1, 3, 3); pl.imshow (X1 - Z2, cmap = 'gray')\n",
    "info (X1 - Z2)"
   ]
  },
  {
   "cell_type": "code",
   "execution_count": null,
   "metadata": {},
   "outputs": [],
   "source": []
  }
 ],
 "metadata": {
  "kernelspec": {
   "display_name": "Python 3 (ipykernel)",
   "language": "python",
   "name": "python3"
  },
  "language_info": {
   "codemirror_mode": {
    "name": "ipython",
    "version": 3
   },
   "file_extension": ".py",
   "mimetype": "text/x-python",
   "name": "python",
   "nbconvert_exporter": "python",
   "pygments_lexer": "ipython3",
   "version": "3.11.5"
  }
 },
 "nbformat": 4,
 "nbformat_minor": 4
}
