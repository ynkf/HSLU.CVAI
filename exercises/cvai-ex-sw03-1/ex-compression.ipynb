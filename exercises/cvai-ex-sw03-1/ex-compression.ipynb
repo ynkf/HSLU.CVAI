{
 "cells": [
  {
   "cell_type": "markdown",
   "id": "01f6a93c",
   "metadata": {},
   "source": [
    "# CVAI: Compression"
   ]
  },
  {
   "cell_type": "markdown",
   "id": "847e75cb",
   "metadata": {},
   "source": [
    "## Aufgabe 1"
   ]
  },
  {
   "cell_type": "markdown",
   "id": "ce3795db",
   "metadata": {},
   "source": [
    "Wählen Sie aus dem u. g. Binärbild eine Zeile aus. Implementieren Sie eine Lauflängencodierung und codieren Sie die Zeile. Implementieren Sie die Decodierung und überprüfen Sie, ob die wieder decodierte Zeile mit der Originalzeile übereinstimmt."
   ]
  },
  {
   "cell_type": "code",
   "execution_count": null,
   "id": "62eb66ac",
   "metadata": {},
   "outputs": [],
   "source": [
    "import numpy as np\n",
    "import matplotlib.pyplot as pl\n",
    "import cv2 as cv\n",
    "\n",
    "path = '/exchange/cvai/images/'"
   ]
  },
  {
   "cell_type": "code",
   "execution_count": null,
   "id": "2b7d214f",
   "metadata": {},
   "outputs": [],
   "source": [
    "Image0 = cv.imread (path + 'lenna-bw-bin.pbm')\n",
    "print (Image0.shape)"
   ]
  },
  {
   "cell_type": "code",
   "execution_count": null,
   "id": "ea81a62e",
   "metadata": {},
   "outputs": [],
   "source": [
    "Image1 = cv.cvtColor (Image0, cv.COLOR_BGR2GRAY)\n",
    "print (Image1.shape, np.min (Image1), np.max (Image1))"
   ]
  },
  {
   "cell_type": "code",
   "execution_count": null,
   "id": "ede92b3a",
   "metadata": {},
   "outputs": [],
   "source": [
    "pl.imshow (Image1, cmap = 'gray')"
   ]
  },
  {
   "cell_type": "code",
   "execution_count": null,
   "id": "c49273af",
   "metadata": {},
   "outputs": [],
   "source": []
  },
  {
   "cell_type": "markdown",
   "id": "1cb191bb",
   "metadata": {},
   "source": [
    "Setzen Sie alle Zeilen des Bildes zu einer einzigen Zeile zusammen und wiederholen Sie obige Rechnung. Stellen Sie das wieder decodierte Bild dar."
   ]
  },
  {
   "cell_type": "code",
   "execution_count": null,
   "id": "8fe4a2d0",
   "metadata": {},
   "outputs": [],
   "source": []
  },
  {
   "cell_type": "markdown",
   "id": "7d5a2cfd",
   "metadata": {},
   "source": [
    "Ändern Sie das codierte Bild so ab, dass es beim Decodieren negativ dargestellt wird."
   ]
  },
  {
   "cell_type": "markdown",
   "id": "4d59bf9f",
   "metadata": {},
   "source": [
    "## Aufgabe 2"
   ]
  },
  {
   "cell_type": "markdown",
   "id": "29bf46d8",
   "metadata": {},
   "source": [
    "Implementieren Sie die LZW-Komprimierung und -Dekomprimierung in Python. Verwenden Sie die Beispiele aus der Vorlesung, um Ihre Implementationen zu überprüfen."
   ]
  },
  {
   "cell_type": "code",
   "execution_count": null,
   "id": "1098dda7",
   "metadata": {},
   "outputs": [],
   "source": []
  }
 ],
 "metadata": {
  "kernelspec": {
   "display_name": "Python 3 (ipykernel)",
   "language": "python",
   "name": "python3"
  },
  "language_info": {
   "codemirror_mode": {
    "name": "ipython",
    "version": 3
   },
   "file_extension": ".py",
   "mimetype": "text/x-python",
   "name": "python",
   "nbconvert_exporter": "python",
   "pygments_lexer": "ipython3",
   "version": "3.11.5"
  }
 },
 "nbformat": 4,
 "nbformat_minor": 5
}
