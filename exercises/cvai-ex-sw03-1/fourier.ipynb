{
 "cells": [
  {
   "cell_type": "markdown",
   "metadata": {},
   "source": [
    "# Demo: Fourier-Reihe"
   ]
  },
  {
   "cell_type": "markdown",
   "metadata": {},
   "source": [
    "## Quelle"
   ]
  },
  {
   "cell_type": "markdown",
   "metadata": {},
   "source": [
    "https://de.wikipedia.org/wiki/Fourierreihe"
   ]
  },
  {
   "cell_type": "markdown",
   "metadata": {},
   "source": [
    "## Bibliotheken"
   ]
  },
  {
   "cell_type": "code",
   "execution_count": null,
   "metadata": {},
   "outputs": [],
   "source": [
    "import numpy as np\n",
    "import matplotlib.pyplot as pl"
   ]
  },
  {
   "cell_type": "markdown",
   "metadata": {},
   "source": [
    "## Integration mittels Trapezregel"
   ]
  },
  {
   "cell_type": "code",
   "execution_count": null,
   "metadata": {},
   "outputs": [],
   "source": [
    "def Integral (f, a, b, n):\n",
    "    x = np.linspace (a, b, n + 1)\n",
    "    y = f (x)\n",
    "    dx = (b - a) / n\n",
    "    return np.trapz (y, x, dx)"
   ]
  },
  {
   "cell_type": "code",
   "execution_count": null,
   "metadata": {},
   "outputs": [],
   "source": [
    "I = Integral (lambda x: x ** 2, 1, 2, 100)\n",
    "print (I)"
   ]
  },
  {
   "cell_type": "markdown",
   "metadata": {},
   "source": [
    "## Fourier-Koeffizienten berechnen"
   ]
  },
  {
   "cell_type": "code",
   "execution_count": null,
   "metadata": {},
   "outputs": [],
   "source": [
    "def FourierKoeffizienten (f, m):\n",
    "    n = m + 1\n",
    "    c = np.zeros ((2, n))\n",
    "    m = 1000\n",
    "    for k in range (n):\n",
    "        c [0, k] = Integral (lambda x: f (x) * np.cos (k * x), -np.pi, np.pi, m)\n",
    "        c [1, k] = Integral (lambda x: f (x) * np.sin (k * x), -np.pi, np.pi, m)\n",
    "    c /= np.pi; c [0, 0] /= 2\n",
    "    return c"
   ]
  },
  {
   "cell_type": "code",
   "execution_count": null,
   "metadata": {},
   "outputs": [],
   "source": [
    "c = FourierKoeffizienten (lambda x: x ** 2, 3)\n",
    "print (c)"
   ]
  },
  {
   "cell_type": "markdown",
   "metadata": {},
   "source": [
    "## Fourier-Reihe berechnen"
   ]
  },
  {
   "cell_type": "code",
   "execution_count": null,
   "metadata": {},
   "outputs": [],
   "source": [
    "def FourierReihe (c, x):\n",
    "    m = c.shape [1]; k = np.arange (m)\n",
    "    n = x.shape [0]; y = np.zeros (n)\n",
    "    for j in range (n):\n",
    "        kx = k * x [j]\n",
    "        y [j] += sum (c [0, :] * np.cos (kx))\n",
    "        y [j] += sum (c [1, :] * np.sin (kx))\n",
    "    return y\n",
    "\n",
    "x = np.array ([-2, -1, 0, 1, 2])\n",
    "print (x)\n",
    "y = FourierReihe (c, x)\n",
    "print (y)"
   ]
  },
  {
   "cell_type": "markdown",
   "metadata": {},
   "source": [
    "## Beispiele"
   ]
  },
  {
   "cell_type": "code",
   "execution_count": null,
   "metadata": {},
   "outputs": [],
   "source": [
    "def Beispiel (f, m):\n",
    "    c = FourierKoeffizienten (f, m)\n",
    "    print (c)\n",
    "    \n",
    "    n = 1000\n",
    "    x1 = np.linspace (-np.pi, np.pi, n + 1)\n",
    "    x2 = np.linspace (- 2 * np.pi, 3 * np.pi, n + 1)\n",
    "    x3 = np.arange (c.shape [1])\n",
    "    \n",
    "    pl.figure (figsize = (14, 5))\n",
    "    pl.subplot (1, 2, 1)\n",
    "    pl.title ('Funktion und Fourierreihe')\n",
    "    pl.plot (x1, f (x1), color = 'blue', linewidth = 3)\n",
    "    pl.plot (x2, FourierReihe (c, x2), color = 'red', linewidth = 1)\n",
    "    \n",
    "    pl.subplot (1, 2, 2)\n",
    "    pl.title ('Spektrum')\n",
    "    pl.bar (x3 - 0.2, c [0, :], width = 0.3, color = 'darkred')\n",
    "    pl.bar (x3 + 0.2, c [1, :], width = 0.3, color = 'darkgreen')"
   ]
  },
  {
   "cell_type": "markdown",
   "metadata": {},
   "source": [
    "### Beispiel 1: Gerade Funktion"
   ]
  },
  {
   "cell_type": "code",
   "execution_count": null,
   "metadata": {},
   "outputs": [],
   "source": [
    "Beispiel (lambda x: x ** 2, 2)"
   ]
  },
  {
   "cell_type": "code",
   "execution_count": null,
   "metadata": {},
   "outputs": [],
   "source": [
    "Beispiel (lambda x: x ** 2, 3)"
   ]
  },
  {
   "cell_type": "markdown",
   "metadata": {},
   "source": [
    "### Beispiel 2: Ungerade Funktion"
   ]
  },
  {
   "cell_type": "code",
   "execution_count": null,
   "metadata": {},
   "outputs": [],
   "source": [
    "Beispiel (lambda x: x, 10)"
   ]
  },
  {
   "cell_type": "markdown",
   "metadata": {},
   "source": [
    "### Beispiel 3: Allgemeiner Fall"
   ]
  },
  {
   "cell_type": "code",
   "execution_count": null,
   "metadata": {},
   "outputs": [],
   "source": [
    "Beispiel (lambda x: x ** 2 - x, 10)"
   ]
  }
 ],
 "metadata": {
  "kernelspec": {
   "display_name": "Python 3 (ipykernel)",
   "language": "python",
   "name": "python3"
  },
  "language_info": {
   "codemirror_mode": {
    "name": "ipython",
    "version": 3
   },
   "file_extension": ".py",
   "mimetype": "text/x-python",
   "name": "python",
   "nbconvert_exporter": "python",
   "pygments_lexer": "ipython3",
   "version": "3.11.5"
  }
 },
 "nbformat": 4,
 "nbformat_minor": 4
}
