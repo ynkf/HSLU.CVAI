{
 "cells": [
  {
   "cell_type": "markdown",
   "metadata": {},
   "source": [
    "# 1D Convolution"
   ]
  },
  {
   "cell_type": "markdown",
   "metadata": {},
   "source": [
    "## libraries"
   ]
  },
  {
   "cell_type": "code",
   "execution_count": null,
   "metadata": {},
   "outputs": [],
   "source": [
    "import numpy as np\n",
    "import cv2 as cv\n",
    "from matplotlib.pyplot import *"
   ]
  },
  {
   "cell_type": "markdown",
   "metadata": {},
   "source": [
    "## define sequences as functions"
   ]
  },
  {
   "cell_type": "markdown",
   "metadata": {},
   "source": [
    "### range"
   ]
  },
  {
   "cell_type": "code",
   "execution_count": null,
   "metadata": {},
   "outputs": [],
   "source": [
    "Rmin = -5\n",
    "Rmax = 15\n",
    "R = np.array (range (Rmin, Rmax + 1))\n",
    "print (R)"
   ]
  },
  {
   "cell_type": "markdown",
   "metadata": {},
   "source": [
    "### first sequence"
   ]
  },
  {
   "cell_type": "code",
   "execution_count": null,
   "metadata": {},
   "outputs": [],
   "source": [
    "def X (k):\n",
    "    if ((0 <= k) & (k < 4)):\n",
    "        return 1\n",
    "    return 0"
   ]
  },
  {
   "cell_type": "code",
   "execution_count": null,
   "metadata": {},
   "outputs": [],
   "source": [
    "x = np.array ([X (i) for i in R])\n",
    "print (x)\n",
    "stem (R, x)"
   ]
  },
  {
   "cell_type": "markdown",
   "metadata": {},
   "source": [
    "### second sequence"
   ]
  },
  {
   "cell_type": "code",
   "execution_count": null,
   "metadata": {},
   "outputs": [],
   "source": [
    "def Y (k):\n",
    "    if ((k == 0) | (k == 2)):\n",
    "        return 1\n",
    "    if (k == 1):\n",
    "        return 2\n",
    "    return 0"
   ]
  },
  {
   "cell_type": "code",
   "execution_count": null,
   "metadata": {},
   "outputs": [],
   "source": [
    "y = [Y (i) for i in R]\n",
    "print (y)\n",
    "stem (R, y)"
   ]
  },
  {
   "cell_type": "markdown",
   "metadata": {},
   "source": [
    "## convolution"
   ]
  },
  {
   "cell_type": "markdown",
   "metadata": {},
   "source": [
    "### compute one element"
   ]
  },
  {
   "cell_type": "code",
   "execution_count": null,
   "metadata": {},
   "outputs": [],
   "source": [
    "def Conv0 (X, Y, k):\n",
    "    s = 0\n",
    "    for i in range (Rmin, Rmax + 1):\n",
    "        s = s + X (i)* Y (k - i)\n",
    "    return s"
   ]
  },
  {
   "cell_type": "code",
   "execution_count": null,
   "metadata": {},
   "outputs": [],
   "source": [
    "print (Conv0 (X, Y, 0))\n",
    "print (Conv0 (X, Y, 1))\n",
    "print (Conv0 (X, Y, 2))"
   ]
  },
  {
   "cell_type": "markdown",
   "metadata": {},
   "source": [
    "### compute all elements"
   ]
  },
  {
   "cell_type": "code",
   "execution_count": null,
   "metadata": {},
   "outputs": [],
   "source": [
    "def Conv (X, Y):\n",
    "    n = R.shape [0]\n",
    "    xy = np.zeros (n, dtype = int)\n",
    "    for i in R:\n",
    "        k = R [i]\n",
    "        xy [i] = Conv0 (X, Y, k)\n",
    "    return xy"
   ]
  },
  {
   "cell_type": "code",
   "execution_count": null,
   "metadata": {},
   "outputs": [],
   "source": [
    "Z = Conv (X, Y)\n",
    "print (Z)\n",
    "stem (R, Z)"
   ]
  },
  {
   "cell_type": "markdown",
   "metadata": {},
   "source": [
    "### convolution using Python"
   ]
  },
  {
   "cell_type": "code",
   "execution_count": null,
   "metadata": {},
   "outputs": [],
   "source": [
    "x = np.array ([1, 2, 3, 4, 3, 2, 1])\n",
    "y = np.array ([1, 2, 1])\n",
    "z = np.convolve (x, y)\n",
    "\n",
    "print (x)\n",
    "print (y)\n",
    "print (z)\n",
    "\n",
    "subplot (2, 2, 1); stem (x)\n",
    "subplot (2, 2, 2); stem (y)\n",
    "subplot (2, 2, 3); stem (z)"
   ]
  },
  {
   "cell_type": "markdown",
   "metadata": {},
   "source": [
    "## another example"
   ]
  },
  {
   "cell_type": "code",
   "execution_count": null,
   "metadata": {},
   "outputs": [],
   "source": [
    "x = np.array ([1, 3, 5, 7, 6, 4, 2])\n",
    "y = np.array ([0, 1, 0])\n",
    "z = np.convolve (x, y)\n",
    "\n",
    "print (x)\n",
    "print (y)\n",
    "print (z)\n",
    "\n",
    "subplot (2, 2, 1); stem (x)\n",
    "subplot (2, 2, 2); stem (y)\n",
    "subplot (2, 2, 3); stem (z)"
   ]
  }
 ],
 "metadata": {
  "kernelspec": {
   "display_name": "Python 3 (ipykernel)",
   "language": "python",
   "name": "python3"
  },
  "language_info": {
   "codemirror_mode": {
    "name": "ipython",
    "version": 3
   },
   "file_extension": ".py",
   "mimetype": "text/x-python",
   "name": "python",
   "nbconvert_exporter": "python",
   "pygments_lexer": "ipython3",
   "version": "3.11.5"
  }
 },
 "nbformat": 4,
 "nbformat_minor": 4
}
