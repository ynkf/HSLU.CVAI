{
 "cells": [
  {
   "cell_type": "markdown",
   "metadata": {},
   "source": [
    "# 2D Convolution"
   ]
  },
  {
   "cell_type": "markdown",
   "metadata": {},
   "source": [
    "## libraries"
   ]
  },
  {
   "cell_type": "code",
   "execution_count": null,
   "metadata": {},
   "outputs": [],
   "source": [
    "import numpy as np\n",
    "import cv2 as cv\n",
    "from matplotlib.pyplot import *"
   ]
  },
  {
   "cell_type": "markdown",
   "metadata": {},
   "source": [
    "## computation using sums"
   ]
  },
  {
   "cell_type": "markdown",
   "metadata": {},
   "source": [
    "### image"
   ]
  },
  {
   "cell_type": "code",
   "execution_count": null,
   "metadata": {},
   "outputs": [],
   "source": [
    "im = np.array ([[1, 2, 3], [4, 5, 6], [7, 8, 9]])\n",
    "print (im)\n",
    "imshow (im, cmap = 'gray')"
   ]
  },
  {
   "cell_type": "markdown",
   "metadata": {},
   "source": [
    "### line oriented or column oriented?"
   ]
  },
  {
   "cell_type": "code",
   "execution_count": null,
   "metadata": {},
   "outputs": [],
   "source": [
    "print (im [0, 1])\n",
    "print (im [1, 0])"
   ]
  },
  {
   "cell_type": "markdown",
   "metadata": {},
   "source": [
    "### kernel"
   ]
  },
  {
   "cell_type": "code",
   "execution_count": null,
   "metadata": {},
   "outputs": [],
   "source": [
    "kern = np.zeros (shape = (15, 15))\n",
    "kern [3, 3] = 1\n",
    "kern [11, 3] = 1\n",
    "kern [7, 11] = 1\n",
    "imshow (kern, cmap = 'gray')"
   ]
  },
  {
   "cell_type": "markdown",
   "metadata": {},
   "source": [
    "### convolution"
   ]
  },
  {
   "cell_type": "code",
   "execution_count": null,
   "metadata": {},
   "outputs": [],
   "source": [
    "im0 = im\n",
    "kern0 = kern\n",
    "\n",
    "Mi = im0.shape [0]; Mk = kern0.shape [0]; M = max (Mi, Mk)\n",
    "Ni = im0.shape [1]; Nk = kern0.shape [1]; N = max (Ni, Nk)\n",
    "\n",
    "def Pixel (im, u, v):\n",
    "    m = im.shape [0]\n",
    "    n = im.shape [1]\n",
    "    if ((0 <= u) & (u < m) & (0 <= v) & (v < n)):\n",
    "        return im [u, v]\n",
    "    return 0\n",
    "\n",
    "def I (u, v):\n",
    "    return Pixel (im0, u, v)\n",
    "\n",
    "def H (u, v):\n",
    "    return Pixel (kern0, u, v)\n",
    "\n",
    "def Conv0 (u, v):\n",
    "    s = 0\n",
    "    for i in range (M):\n",
    "        for j in range (N):\n",
    "            s = s + I (u - i, v - j) * H (i, j)\n",
    "    return s\n",
    "\n",
    "def Conv ():\n",
    "    res = np.zeros (shape = (M, N))\n",
    "    for i in range (M):\n",
    "        for k in range (N):\n",
    "            res [i, k] = Conv0 (i, k)\n",
    "    return res\n",
    "\n",
    "res0 = Conv ()\n",
    "imshow (res0, cmap = 'gray')"
   ]
  },
  {
   "cell_type": "markdown",
   "metadata": {},
   "source": [
    "## first example: positioning"
   ]
  },
  {
   "cell_type": "markdown",
   "metadata": {},
   "source": [
    "### image"
   ]
  },
  {
   "cell_type": "code",
   "execution_count": null,
   "metadata": {},
   "outputs": [],
   "source": [
    "im1 = np.array ([[1, 2, 3], [4, 5, 6], [7, 8, 9]])\n",
    "print (im1)\n",
    "imshow (im1, cmap = 'gray')"
   ]
  },
  {
   "cell_type": "markdown",
   "metadata": {},
   "source": [
    "### kernel"
   ]
  },
  {
   "cell_type": "code",
   "execution_count": null,
   "metadata": {},
   "outputs": [],
   "source": [
    "kern1 = np.zeros (shape = (15, 15))\n",
    "kern1 [3, 3] = 1\n",
    "kern1 [11, 3] = 1\n",
    "kern1 [7, 11] = 1\n",
    "imshow (kern1, cmap = 'gray')"
   ]
  },
  {
   "cell_type": "markdown",
   "metadata": {},
   "source": [
    "### convolution, wrong"
   ]
  },
  {
   "cell_type": "code",
   "execution_count": null,
   "metadata": {},
   "outputs": [],
   "source": [
    "res1a = cv.filter2D (im1, -1, kern1)\n",
    "imshow (res1a, cmap = 'gray')"
   ]
  },
  {
   "cell_type": "markdown",
   "metadata": {},
   "source": [
    "### convolution right, but second parameter wrong"
   ]
  },
  {
   "cell_type": "code",
   "execution_count": null,
   "metadata": {},
   "outputs": [],
   "source": [
    "res1b = cv.filter2D (kern1, -1, im1)\n",
    "subplot (1, 2, 1); imshow (res1b, cmap = 'gray')\n",
    "subplot (1, 2, 2); imshow (res0, cmap = 'gray')"
   ]
  },
  {
   "cell_type": "markdown",
   "metadata": {},
   "source": [
    "### both convolution and second parameter right"
   ]
  },
  {
   "cell_type": "code",
   "execution_count": null,
   "metadata": {},
   "outputs": [],
   "source": [
    "im1c = cv.flip (im1, -1)\n",
    "subplot (1, 2, 1); imshow (im1, cmap = 'gray')\n",
    "subplot (1, 2, 2); imshow (im1c, cmap = 'gray')"
   ]
  },
  {
   "cell_type": "code",
   "execution_count": null,
   "metadata": {},
   "outputs": [],
   "source": [
    "res1c = cv.filter2D (kern1, -1, im1c)\n",
    "subplot (1, 2, 1); imshow (res1c, cmap = 'gray')\n",
    "subplot (1, 2, 2); imshow (res0, cmap = 'gray')"
   ]
  },
  {
   "cell_type": "markdown",
   "metadata": {},
   "source": [
    "## second example: smoothing filter"
   ]
  },
  {
   "cell_type": "code",
   "execution_count": null,
   "metadata": {},
   "outputs": [],
   "source": [
    "im2 = res1c\n",
    "kern2 = np.array ([[1, 1, 1], [1, 1, 1], [1, 1, 1]])\n",
    "res2 = cv.filter2D (im2, -1, kern2)\n",
    "imshow (res2, cmap = 'gray')"
   ]
  }
 ],
 "metadata": {
  "kernelspec": {
   "display_name": "Python 3 (ipykernel)",
   "language": "python",
   "name": "python3"
  },
  "language_info": {
   "codemirror_mode": {
    "name": "ipython",
    "version": 3
   },
   "file_extension": ".py",
   "mimetype": "text/x-python",
   "name": "python",
   "nbconvert_exporter": "python",
   "pygments_lexer": "ipython3",
   "version": "3.11.5"
  }
 },
 "nbformat": 4,
 "nbformat_minor": 4
}
