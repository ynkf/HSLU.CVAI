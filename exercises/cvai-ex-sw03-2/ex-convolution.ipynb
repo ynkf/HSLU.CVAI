{
 "cells": [
  {
   "cell_type": "markdown",
   "id": "9f404ec5",
   "metadata": {},
   "source": [
    "# CVAI Übung: Convolution\n"
   ]
  },
  {
   "cell_type": "markdown",
   "id": "189d4bc3",
   "metadata": {},
   "source": [
    "### libraries"
   ]
  },
  {
   "cell_type": "code",
   "execution_count": null,
   "id": "75c4128a",
   "metadata": {},
   "outputs": [],
   "source": [
    "import numpy as np\n",
    "import matplotlib.pyplot as pl\n",
    "import cv2 as cv\n",
    "\n",
    "path = '/exchange/cvai/images/'"
   ]
  },
  {
   "cell_type": "markdown",
   "id": "50a14340",
   "metadata": {},
   "source": [
    "## read greylevel image"
   ]
  },
  {
   "cell_type": "code",
   "execution_count": null,
   "id": "c299b016",
   "metadata": {},
   "outputs": [],
   "source": [
    "img = cv.cvtColor (cv.imread (path + 'air_image.png'), cv.COLOR_BGR2GRAY)\n",
    "print (img.shape)\n",
    "pl.imshow (img, cmap = 'gray')"
   ]
  },
  {
   "cell_type": "markdown",
   "id": "e87c8cfa",
   "metadata": {},
   "source": [
    "## read pattern to recognize"
   ]
  },
  {
   "cell_type": "code",
   "execution_count": null,
   "id": "f8100e21",
   "metadata": {},
   "outputs": [],
   "source": [
    "mask = cv.cvtColor (cv.imread (path + 'air_mask.png'), cv.COLOR_BGR2GRAY)\n",
    "print (mask.shape)\n",
    "pl.imshow (mask, cmap = 'gray')"
   ]
  },
  {
   "cell_type": "markdown",
   "id": "b9c50344",
   "metadata": {},
   "source": [
    "## Exercise 1"
   ]
  },
  {
   "cell_type": "markdown",
   "id": "fcc1c108",
   "metadata": {},
   "source": [
    "Try to localize mask in image using correlation."
   ]
  },
  {
   "cell_type": "code",
   "execution_count": null,
   "id": "500c005d",
   "metadata": {},
   "outputs": [],
   "source": []
  },
  {
   "cell_type": "markdown",
   "id": "3e2dff42",
   "metadata": {},
   "source": [
    "As result you will localize the mask in the near of the right position, but not exactly.\n",
    "Please think about the reason for this fail."
   ]
  },
  {
   "cell_type": "code",
   "execution_count": null,
   "id": "86d3db56",
   "metadata": {},
   "outputs": [],
   "source": []
  },
  {
   "cell_type": "markdown",
   "id": "9e8b73eb",
   "metadata": {},
   "source": [
    "## Exercise 2"
   ]
  },
  {
   "cell_type": "markdown",
   "id": "0b5554ce",
   "metadata": {},
   "source": [
    "Try some operators for edge detection. Apply these operators to the image before repeating \n",
    "exercise 1 with thee preprocessed images. Is the result better now? Think about the reasons."
   ]
  },
  {
   "cell_type": "code",
   "execution_count": null,
   "id": "644250c8",
   "metadata": {},
   "outputs": [],
   "source": []
  }
 ],
 "metadata": {
  "kernelspec": {
   "display_name": "Python 3 (ipykernel)",
   "language": "python",
   "name": "python3"
  },
  "language_info": {
   "codemirror_mode": {
    "name": "ipython",
    "version": 3
   },
   "file_extension": ".py",
   "mimetype": "text/x-python",
   "name": "python",
   "nbconvert_exporter": "python",
   "pygments_lexer": "ipython3",
   "version": "3.11.5"
  }
 },
 "nbformat": 4,
 "nbformat_minor": 5
}
