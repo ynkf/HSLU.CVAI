{
 "cells": [
  {
   "cell_type": "markdown",
   "id": "440adc11-52bf-40ae-aea4-6f5b11537163",
   "metadata": {},
   "source": [
    "# LZ77-Kompression"
   ]
  },
  {
   "cell_type": "markdown",
   "id": "71d33258-bde2-494a-9a92-40c617191391",
   "metadata": {},
   "source": [
    "## Eingabedaten"
   ]
  },
  {
   "cell_type": "code",
   "execution_count": 1,
   "id": "9233c894-e54c-422b-8861-def11ff90d89",
   "metadata": {},
   "outputs": [],
   "source": [
    "InputSelect = 1"
   ]
  },
  {
   "cell_type": "code",
   "execution_count": null,
   "id": "7aa80a56-35da-43d6-a22b-9bced7765662",
   "metadata": {},
   "outputs": [
    {
     "ename": "SyntaxError",
     "evalue": "invalid syntax (3016325489.py, line 1)",
     "output_type": "error",
     "traceback": [
      "\u001b[1;36m  Cell \u001b[1;32mIn[2], line 1\u001b[1;36m\u001b[0m\n\u001b[1;33m    match InputSelect:\u001b[0m\n\u001b[1;37m          ^\u001b[0m\n\u001b[1;31mSyntaxError\u001b[0m\u001b[1;31m:\u001b[0m invalid syntax\n"
     ]
    }
   ],
   "source": [
    "match InputSelect:\n",
    "    case 1:\n",
    "        Input = 'abracabrabra'\n",
    "        LookAheadLength, SearchLength, Output = 4, 6, True\n",
    "    case 2:\n",
    "        Input = 'aacaacabcabaaac'\n",
    "        LookAheadLength, SearchLength, Output = 9, 12, True\n",
    "    case 3:\n",
    "        Input = 'aaaaa-aaaa-aaa-aa-a-abc-bca-a-aa-aaa-aaaa-aaaaa'\n",
    "        LookAheadLength, SearchLength, Output = 10, 10, False"
   ]
  },
  {
   "cell_type": "markdown",
   "id": "5dfcc9a2-2c77-4b67-87ac-1ceaced050df",
   "metadata": {},
   "source": [
    "## Pufferspeicher"
   ]
  },
  {
   "cell_type": "markdown",
   "id": "d8f59320-5015-4c8d-b46c-a26cdc44d130",
   "metadata": {},
   "source": [
    "### Zeichen für Ende der Eingabe"
   ]
  },
  {
   "cell_type": "code",
   "execution_count": 3,
   "id": "160e3230-bbd9-4c7a-abe2-0da24496539c",
   "metadata": {},
   "outputs": [],
   "source": [
    "InputEnd = '.'"
   ]
  },
  {
   "cell_type": "markdown",
   "id": "f2f6dd90-2a8b-494e-9342-23e59b2a0923",
   "metadata": {},
   "source": [
    "### Kombination von Wörterbuch (Search Buffer) und Vorschaupuffer (Look Ahead Buffer)"
   ]
  },
  {
   "cell_type": "code",
   "execution_count": 4,
   "id": "66b7dd18-b79f-428b-8d6e-0e7edaa35467",
   "metadata": {},
   "outputs": [],
   "source": [
    "InputLength = len (Input)"
   ]
  },
  {
   "cell_type": "code",
   "execution_count": 5,
   "id": "f6228cf1-6e5d-4746-b1d4-f8e38e9211bc",
   "metadata": {},
   "outputs": [
    {
     "name": "stdout",
     "output_type": "stream",
     "text": [
      "......abracabrabra.....\n"
     ]
    }
   ],
   "source": [
    "Buffer = InputEnd * SearchLength + Input + InputEnd * (LookAheadLength + 1)\n",
    "print (Buffer)"
   ]
  },
  {
   "cell_type": "markdown",
   "id": "8f34dde8-5ebf-4673-9640-b51a8e113194",
   "metadata": {},
   "source": [
    "## Suchfenster"
   ]
  },
  {
   "cell_type": "markdown",
   "id": "074d9ed6-54f5-4d6d-b0cf-33f09b0e2e65",
   "metadata": {},
   "source": [
    "### initialisieren"
   ]
  },
  {
   "cell_type": "code",
   "execution_count": 6,
   "id": "a5f7b61f-e629-4a2a-b84f-56e0ff9b3d24",
   "metadata": {},
   "outputs": [],
   "source": [
    "def Init ():\n",
    "    global WindowOrigin, WindowMaximum\n",
    "    WindowOrigin = SearchLength\n",
    "    WindowMaximum = WindowOrigin + InputLength\n",
    "\n",
    "Init()"
   ]
  },
  {
   "cell_type": "markdown",
   "id": "4cd6336b-147e-4916-9a57-a04d2113228e",
   "metadata": {},
   "source": [
    "### am Ende der Eingabe?"
   ]
  },
  {
   "cell_type": "code",
   "execution_count": 7,
   "id": "0e311fda-3c5f-4cea-bc36-47e9082f2188",
   "metadata": {},
   "outputs": [],
   "source": [
    "def AtEnd ():\n",
    "    return WindowOrigin >= WindowMaximum"
   ]
  },
  {
   "cell_type": "markdown",
   "id": "42a10333-ad22-497a-ac4b-5ab3316662e0",
   "metadata": {},
   "source": [
    "### bewegen"
   ]
  },
  {
   "cell_type": "code",
   "execution_count": 8,
   "id": "37a745f2-170d-47c4-86fd-a294acd6b332",
   "metadata": {},
   "outputs": [],
   "source": [
    "def Move (increment):\n",
    "    global WindowOrigin\n",
    "    WindowOrigin += increment"
   ]
  },
  {
   "cell_type": "markdown",
   "id": "6df94749-fb2d-43a9-82bb-71567c1072a0",
   "metadata": {},
   "source": [
    "### Zeichen lesen"
   ]
  },
  {
   "cell_type": "code",
   "execution_count": 9,
   "id": "29950b0c-37c8-499e-9170-f75291870828",
   "metadata": {},
   "outputs": [],
   "source": [
    "def Character (i):\n",
    "    return Buffer [WindowOrigin + i]"
   ]
  },
  {
   "cell_type": "markdown",
   "id": "c85023b7-fdd1-4e4d-bbe7-9530d4098e89",
   "metadata": {},
   "source": [
    "### Zeichenkette lesen"
   ]
  },
  {
   "cell_type": "code",
   "execution_count": 10,
   "id": "653e5d24-84ef-4b6c-9628-02399c5daabe",
   "metadata": {},
   "outputs": [],
   "source": [
    "def String (i, k):\n",
    "    return Buffer [WindowOrigin + i : WindowOrigin + k]"
   ]
  },
  {
   "cell_type": "markdown",
   "id": "a0997d05-c029-4ec4-93d7-50c300811fdf",
   "metadata": {},
   "source": [
    "### ausgeben"
   ]
  },
  {
   "cell_type": "code",
   "execution_count": 11,
   "id": "ee73c4f4-48c0-4894-8267-2e883fb2d1ba",
   "metadata": {},
   "outputs": [
    {
     "name": "stdout",
     "output_type": "stream",
     "text": [
      " -6   -5   -4   -3   -2   -1  |    0    1    2    3  \n",
      "  .    .    .    .    .    .  |    a    b    r    a  \n"
     ]
    }
   ],
   "source": [
    "def Print ():\n",
    "    if Output:\n",
    "        frm = '{:>3}'\n",
    "        spc = ' ' * 2\n",
    "        sep = '|'\n",
    "        for i in range (-SearchLength, LookAheadLength):\n",
    "            if i == 0:\n",
    "                print (sep, end = spc)\n",
    "            print (frm.format (i), end = spc)\n",
    "        print()\n",
    "        for i in range (-SearchLength, LookAheadLength):\n",
    "            if i == 0:\n",
    "                print (sep, end = spc)\n",
    "            print (frm.format (Character (i)), end = spc)\n",
    "        print()\n",
    "\n",
    "Print()"
   ]
  },
  {
   "cell_type": "markdown",
   "id": "e77473d3-978b-4804-9a39-5dd63ad1ca5f",
   "metadata": {},
   "source": [
    "## Kompression"
   ]
  },
  {
   "cell_type": "code",
   "execution_count": 12,
   "id": "96fdb012-8e43-40f1-bcd0-c11dbb14c033",
   "metadata": {},
   "outputs": [],
   "source": [
    "def Search ():\n",
    "    for n in range (LookAheadLength - 1, 0, -1):\n",
    "        s = String (0, n)\n",
    "        for i in range (-SearchLength, 0):\n",
    "            t = String (i, i + n)\n",
    "            if (s == t):\n",
    "                return -i, n\n",
    "    return 0, 0"
   ]
  },
  {
   "cell_type": "code",
   "execution_count": 13,
   "id": "7967d1a0-f9e4-4fe1-abd6-b1b89b2553d4",
   "metadata": {},
   "outputs": [],
   "source": [
    "def CompressPrint1 ():\n",
    "    if Output:\n",
    "        Print()"
   ]
  },
  {
   "cell_type": "code",
   "execution_count": 14,
   "id": "33717d44-7f12-4457-8fcf-422ff4b9658c",
   "metadata": {},
   "outputs": [],
   "source": [
    "def CompressPrint2 (tup):\n",
    "    if Output:\n",
    "        print ('\\n--->  ', tup, '\\n')"
   ]
  },
  {
   "cell_type": "code",
   "execution_count": 15,
   "id": "2a2da48b-677f-48e7-8296-5e61ba92c967",
   "metadata": {},
   "outputs": [
    {
     "name": "stdout",
     "output_type": "stream",
     "text": [
      " -6   -5   -4   -3   -2   -1  |    0    1    2    3  \n",
      "  .    .    .    .    .    .  |    a    b    r    a  \n",
      "\n",
      "--->   (0, 0, 'a') \n",
      "\n",
      " -6   -5   -4   -3   -2   -1  |    0    1    2    3  \n",
      "  .    .    .    .    .    a  |    b    r    a    c  \n",
      "\n",
      "--->   (0, 0, 'b') \n",
      "\n",
      " -6   -5   -4   -3   -2   -1  |    0    1    2    3  \n",
      "  .    .    .    .    a    b  |    r    a    c    a  \n",
      "\n",
      "--->   (0, 0, 'r') \n",
      "\n",
      " -6   -5   -4   -3   -2   -1  |    0    1    2    3  \n",
      "  .    .    .    a    b    r  |    a    c    a    b  \n",
      "\n",
      "--->   (3, 1, 'c') \n",
      "\n",
      " -6   -5   -4   -3   -2   -1  |    0    1    2    3  \n",
      "  .    a    b    r    a    c  |    a    b    r    a  \n",
      "\n",
      "--->   (5, 3, 'a') \n",
      "\n",
      " -6   -5   -4   -3   -2   -1  |    0    1    2    3  \n",
      "  a    c    a    b    r    a  |    b    r    a    .  \n",
      "\n",
      "--->   (3, 3, '.') \n",
      "\n",
      " -6   -5   -4   -3   -2   -1  |    0    1    2    3  \n",
      "  r    a    b    r    a    .  |    .    .    .    .  \n"
     ]
    }
   ],
   "source": [
    "def Compress ():\n",
    "    code = []\n",
    "    Init()\n",
    "    while not AtEnd():\n",
    "        CompressPrint1()\n",
    "        i, n = Search()\n",
    "        tup = (i, n, Character (n))\n",
    "        Move (n + 1)\n",
    "        CompressPrint2 (tup)\n",
    "        code.append (tup)\n",
    "    CompressPrint1()\n",
    "    return code\n",
    "\n",
    "comp = Compress()"
   ]
  },
  {
   "cell_type": "code",
   "execution_count": 16,
   "id": "5bec1898-af3d-4115-9e7d-315b7a9994fb",
   "metadata": {},
   "outputs": [
    {
     "name": "stdout",
     "output_type": "stream",
     "text": [
      "(0, 0, 'a')\n",
      "(0, 0, 'b')\n",
      "(0, 0, 'r')\n",
      "(3, 1, 'c')\n",
      "(5, 3, 'a')\n",
      "(3, 3, '.')\n"
     ]
    }
   ],
   "source": [
    "for tup in comp:\n",
    "    print (tup)"
   ]
  },
  {
   "cell_type": "markdown",
   "id": "fa388fc8-49f5-4e4d-ab62-8a687bbf2458",
   "metadata": {},
   "source": [
    "## Dekompression"
   ]
  },
  {
   "cell_type": "code",
   "execution_count": 17,
   "id": "7a93be23-2474-4b73-afc0-faa81d52377b",
   "metadata": {},
   "outputs": [],
   "source": [
    "def DecompressPrint1 (i, n, character):\n",
    "    if Output:\n",
    "        print ('{:2} {:2} {:>2}' .format (i, n, character), end = ' ' * 5)"
   ]
  },
  {
   "cell_type": "code",
   "execution_count": 18,
   "id": "ad5f048d-b01d-41a7-a3ab-292f84734ca3",
   "metadata": {},
   "outputs": [],
   "source": [
    "def DecompressPrint2 (string):\n",
    "    if Output:\n",
    "        print (string)"
   ]
  },
  {
   "cell_type": "code",
   "execution_count": 19,
   "id": "2ec9d381-3d82-4a4a-b99e-f894fbe29502",
   "metadata": {},
   "outputs": [
    {
     "name": "stdout",
     "output_type": "stream",
     "text": [
      " 0  0  a     a\n",
      " 0  0  b     ab\n",
      " 0  0  r     abr\n",
      " 3  1  c     abrac\n",
      " 5  3  a     abracabra\n",
      " 3  3  .     abracabrabra\n",
      "abracabrabra\n"
     ]
    }
   ],
   "source": [
    "def Decompress (code):\n",
    "    string = ''\n",
    "    for k, n, character in code:\n",
    "        DecompressPrint1 (k, n, character)\n",
    "        i = len (string) - k\n",
    "        while n > 0:\n",
    "            m = min (k, n)\n",
    "            string += string [i : i + m]\n",
    "            n -= m\n",
    "        if character != InputEnd:\n",
    "            string += character\n",
    "        DecompressPrint2 (string)\n",
    "    return string\n",
    "\n",
    "decomp = Decompress (comp)\n",
    "print (decomp)"
   ]
  },
  {
   "cell_type": "code",
   "execution_count": 20,
   "id": "991eb84a-2d47-4eb9-9d6c-8fa1edebdba6",
   "metadata": {},
   "outputs": [
    {
     "name": "stdout",
     "output_type": "stream",
     "text": [
      "True\n"
     ]
    }
   ],
   "source": [
    "print (decomp == Input)"
   ]
  }
 ],
 "metadata": {
  "kernelspec": {
   "display_name": ".venv",
   "language": "python",
   "name": "python3"
  },
  "language_info": {
   "codemirror_mode": {
    "name": "ipython",
    "version": 3
   },
   "file_extension": ".py",
   "mimetype": "text/x-python",
   "name": "python",
   "nbconvert_exporter": "python",
   "pygments_lexer": "ipython3",
   "version": "3.9.13"
  }
 },
 "nbformat": 4,
 "nbformat_minor": 5
}
