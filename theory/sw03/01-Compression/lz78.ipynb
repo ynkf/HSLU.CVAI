{
 "cells": [
  {
   "cell_type": "markdown",
   "id": "55e5acf5-553d-48a3-814b-e92fe938b753",
   "metadata": {},
   "source": [
    "# LZ78-Kompression"
   ]
  },
  {
   "cell_type": "markdown",
   "id": "e05a2684-e4ea-4864-803f-041b911b30fc",
   "metadata": {},
   "source": [
    "## Eingabe"
   ]
  },
  {
   "cell_type": "code",
   "execution_count": 1,
   "id": "6259fd92-b955-4c09-8cda-7af37e05f6a6",
   "metadata": {},
   "outputs": [],
   "source": [
    "InputSelect = 1"
   ]
  },
  {
   "cell_type": "code",
   "execution_count": 2,
   "id": "7261d504-a13e-4e4d-8d53-14a5173aec0c",
   "metadata": {},
   "outputs": [],
   "source": [
    "match InputSelect:\n",
    "    case 1:\n",
    "        Input = 'abbcbcababcaabcaab'\n",
    "        Output = True\n",
    "    case 2:\n",
    "        Input = 'TOBEORNOTTOBEORTOBEORNOT'\n",
    "        Output = False"
   ]
  },
  {
   "cell_type": "markdown",
   "id": "e0cf5ffc-a915-41cb-b851-9a9565d10321",
   "metadata": {},
   "source": [
    "## Wörterbuch"
   ]
  },
  {
   "cell_type": "code",
   "execution_count": 3,
   "id": "87fe8e78-9b74-421e-aaf3-9195178ddb5e",
   "metadata": {},
   "outputs": [],
   "source": [
    "def ClearDict ():\n",
    "    global Dict\n",
    "    Dict = { }"
   ]
  },
  {
   "cell_type": "code",
   "execution_count": 4,
   "id": "561b2822-1e6b-43c9-8889-45cf1ac39256",
   "metadata": {},
   "outputs": [],
   "source": [
    "def AddToDict (key):\n",
    "    global Dict\n",
    "    if not key in Dict:\n",
    "        val = len (Dict) + 1\n",
    "        Dict.update ({ key: val })"
   ]
  },
  {
   "cell_type": "code",
   "execution_count": 5,
   "id": "98a6d88c-3c4e-4807-b360-78d14f361be5",
   "metadata": {},
   "outputs": [],
   "source": [
    "def IsInDict (string):\n",
    "    strlen = len (string)\n",
    "    for substring, index in sorted (Dict.items(), reverse = True):\n",
    "        sublen = len (substring)\n",
    "        if sublen < strlen and string.startswith (substring):\n",
    "            return index, sublen\n",
    "    return 0, 0"
   ]
  },
  {
   "cell_type": "markdown",
   "id": "d9c85ec7-45a6-4afa-92f2-992974cd61a7",
   "metadata": {},
   "source": [
    "## Kompression"
   ]
  },
  {
   "cell_type": "code",
   "execution_count": 6,
   "id": "4fcf0742-a3ec-436a-a01b-61a8184bb49d",
   "metadata": {},
   "outputs": [],
   "source": [
    "def CompressPrint1 (string):\n",
    "    if Output:\n",
    "        print (string)"
   ]
  },
  {
   "cell_type": "code",
   "execution_count": 7,
   "id": "b0f34d99-784f-4f03-8a4e-81090dee97e2",
   "metadata": {},
   "outputs": [],
   "source": [
    "def CompressPrint2 (tup):\n",
    "    if Output:\n",
    "        print (Dict)\n",
    "        print (tup, end = '\\n\\n')"
   ]
  },
  {
   "cell_type": "code",
   "execution_count": 8,
   "id": "c4a78190-93f8-422d-a212-b984407b7095",
   "metadata": {},
   "outputs": [
    {
     "name": "stdout",
     "output_type": "stream",
     "text": [
      "abbcbcababcaabcaab\n",
      "{'a': 1}\n",
      "(0, 'a')\n",
      "\n",
      "bbcbcababcaabcaab\n",
      "{'a': 1, 'b': 2}\n",
      "(0, 'b')\n",
      "\n",
      "bcbcababcaabcaab\n",
      "{'a': 1, 'b': 2, 'bc': 3}\n",
      "(2, 'c')\n",
      "\n",
      "bcababcaabcaab\n",
      "{'a': 1, 'b': 2, 'bc': 3, 'bca': 4}\n",
      "(3, 'a')\n",
      "\n",
      "babcaabcaab\n",
      "{'a': 1, 'b': 2, 'bc': 3, 'bca': 4, 'ba': 5}\n",
      "(2, 'a')\n",
      "\n",
      "bcaabcaab\n",
      "{'a': 1, 'b': 2, 'bc': 3, 'bca': 4, 'ba': 5, 'bcaa': 6}\n",
      "(4, 'a')\n",
      "\n",
      "bcaab\n",
      "{'a': 1, 'b': 2, 'bc': 3, 'bca': 4, 'ba': 5, 'bcaa': 6, 'bcaab': 7}\n",
      "(6, 'b')\n",
      "\n"
     ]
    }
   ],
   "source": [
    "def Compress (string):\n",
    "    code = []\n",
    "    ClearDict()\n",
    "    while string:\n",
    "        CompressPrint1 (string)\n",
    "        index, length = IsInDict (string)\n",
    "        character = string [length]\n",
    "        if index > 0:\n",
    "            AddToDict (string [: length] + character)\n",
    "            string = string [length :]\n",
    "        else:\n",
    "            AddToDict (character)\n",
    "        first = string [0]\n",
    "        string = string [1 :]\n",
    "        tup = (index, first)\n",
    "        code.append (tup)\n",
    "        CompressPrint2 (tup)\n",
    "    return code\n",
    "\n",
    "comp = Compress (Input)"
   ]
  },
  {
   "cell_type": "code",
   "execution_count": 9,
   "id": "c26bb60b-e5ad-4d89-b406-ebd4847bb162",
   "metadata": {},
   "outputs": [
    {
     "name": "stdout",
     "output_type": "stream",
     "text": [
      "(0, 'a')\n",
      "(0, 'b')\n",
      "(2, 'c')\n",
      "(3, 'a')\n",
      "(2, 'a')\n",
      "(4, 'a')\n",
      "(6, 'b')\n"
     ]
    }
   ],
   "source": [
    "for tup in comp:\n",
    "    print (tup)"
   ]
  },
  {
   "cell_type": "markdown",
   "id": "fa5574b7-2157-4ceb-bbad-088ccf29f84a",
   "metadata": {},
   "source": [
    "## Dekompression"
   ]
  },
  {
   "cell_type": "code",
   "execution_count": 10,
   "id": "ae508821-bd1b-4299-9415-e4fa837589f0",
   "metadata": {},
   "outputs": [],
   "source": [
    "def DecompressPrint (index, character, dictionary, string):\n",
    "    if Output:\n",
    "        print ((index, character))\n",
    "        for i, s in enumerate (dictionary):\n",
    "            print (str (i) + ': \\'' + s + '\\'', end = ', ')\n",
    "        print()\n",
    "        print (string, end = '\\n\\n')"
   ]
  },
  {
   "cell_type": "code",
   "execution_count": 11,
   "id": "51315fab-bfd5-4551-ab24-303e0147caa7",
   "metadata": {},
   "outputs": [
    {
     "name": "stdout",
     "output_type": "stream",
     "text": [
      "(0, 'a')\n",
      "0: '', 1: 'a', \n",
      "a\n",
      "\n",
      "(0, 'b')\n",
      "0: '', 1: 'a', 2: 'b', \n",
      "ab\n",
      "\n",
      "(2, 'c')\n",
      "0: '', 1: 'a', 2: 'b', 3: 'bc', \n",
      "abbc\n",
      "\n",
      "(3, 'a')\n",
      "0: '', 1: 'a', 2: 'b', 3: 'bc', 4: 'bca', \n",
      "abbcbca\n",
      "\n",
      "(2, 'a')\n",
      "0: '', 1: 'a', 2: 'b', 3: 'bc', 4: 'bca', 5: 'ba', \n",
      "abbcbcaba\n",
      "\n",
      "(4, 'a')\n",
      "0: '', 1: 'a', 2: 'b', 3: 'bc', 4: 'bca', 5: 'ba', 6: 'bcaa', \n",
      "abbcbcababcaa\n",
      "\n",
      "(6, 'b')\n",
      "0: '', 1: 'a', 2: 'b', 3: 'bc', 4: 'bca', 5: 'ba', 6: 'bcaa', 7: 'bcaab', \n",
      "abbcbcababcaabcaab\n",
      "\n",
      "abbcbcababcaabcaab\n"
     ]
    }
   ],
   "source": [
    "def Decompress (code):\n",
    "    string = ''\n",
    "    dictionary = ['']\n",
    "    for index, character in code:\n",
    "        s = dictionary [index] + character\n",
    "        string += s\n",
    "        dictionary.append (s)\n",
    "        DecompressPrint (index, character, dictionary, string)\n",
    "    return string\n",
    "\n",
    "decomp = Decompress (comp)\n",
    "print (decomp)"
   ]
  },
  {
   "cell_type": "code",
   "execution_count": 12,
   "id": "a5da8f92-fcf7-43c1-bd78-f8cb128cbbd5",
   "metadata": {},
   "outputs": [
    {
     "name": "stdout",
     "output_type": "stream",
     "text": [
      "True\n"
     ]
    }
   ],
   "source": [
    "print (decomp == Input)"
   ]
  }
 ],
 "metadata": {
  "kernelspec": {
   "display_name": "Python 3 (ipykernel)",
   "language": "python",
   "name": "python3"
  },
  "language_info": {
   "codemirror_mode": {
    "name": "ipython",
    "version": 3
   },
   "file_extension": ".py",
   "mimetype": "text/x-python",
   "name": "python",
   "nbconvert_exporter": "python",
   "pygments_lexer": "ipython3",
   "version": "3.13.2"
  }
 },
 "nbformat": 4,
 "nbformat_minor": 5
}
